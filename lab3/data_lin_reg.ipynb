{
  "nbformat": 4,
  "nbformat_minor": 0,
  "metadata": {
    "colab": {
      "name": "data_lin_reg.ipynb",
      "provenance": []
    },
    "kernelspec": {
      "name": "python3",
      "display_name": "Python 3"
    }
  },
  "cells": [
    {
      "cell_type": "code",
      "metadata": {
        "colab": {
          "base_uri": "https://localhost:8080/"
        },
        "id": "HjqZOzdW46Y0",
        "outputId": "6637effd-599a-4a61-ae91-7cd3fbebdd67"
      },
      "source": [
        "import pandas as pd\r\n",
        "import numpy as np\r\n",
        "from sklearn.linear_model import LinearRegression\r\n",
        "from sklearn.model_selection import train_test_split\r\n",
        "from sklearn import metrics\r\n",
        "\r\n",
        "dataset = pd.read_csv('data.txt')\r\n",
        "\r\n",
        "\r\n",
        "dataset.shape\r\n",
        "dataset.head()\r\n",
        "dataset.describe()\r\n",
        "\r\n",
        "X = dataset.iloc[:, :-1].values\r\n",
        "y = dataset.iloc[:, 8].values\r\n",
        "\r\n",
        "X_train, X_test, y_train, y_test = train_test_split(X, y, test_size=0.2, random_state=0)\r\n",
        "\r\n",
        "regressor = LinearRegression()\r\n",
        "regressor.fit(X_train, y_train)\r\n",
        "\r\n",
        "print(regressor.intercept_)\r\n",
        "\r\n",
        "print(regressor.coef_)\r\n",
        "\r\n",
        "y_pred = regressor.predict(X_test)\r\n",
        "\r\n",
        "df = pd.DataFrame({'Actual': y_test, 'Predicted': y_pred})\r\n",
        "df\r\n",
        "print(df.head())\r\n",
        "\r\n",
        "\r\n",
        "print('Mean Absolute Error:', metrics.mean_absolute_error(y_test, y_pred))\r\n",
        "print('Mean Squared Error:', metrics.mean_squared_error(y_test, y_pred))\r\n",
        "print('Root Mean Squared Error:', np.sqrt(metrics.mean_squared_error(y_test, y_pred)))"
      ],
      "execution_count": 2,
      "outputs": [
        {
          "output_type": "stream",
          "text": [
            "-3583511.9811194353\n",
            "[-4.26558982e+04 -4.22734328e+04  1.12469607e+03 -8.24078405e+00\n",
            "  1.12371616e+02 -3.86652014e+01  4.96736585e+01  4.02112006e+04]\n",
            "     Actual      Predicted\n",
            "0  147700.0  189788.518614\n",
            "1  198100.0  220290.922129\n",
            "2  200700.0  189218.207467\n",
            "3   87500.0  102110.417716\n",
            "4  500001.0  304541.464167\n",
            "Mean Absolute Error: 51264.85363462615\n",
            "Mean Squared Error: 4995251960.594028\n",
            "Root Mean Squared Error: 70677.09643579049\n"
          ],
          "name": "stdout"
        }
      ]
    },
    {
      "cell_type": "markdown",
      "metadata": {
        "id": "ZCYOXkEh5ORI"
      },
      "source": [
        ""
      ]
    }
  ]
}